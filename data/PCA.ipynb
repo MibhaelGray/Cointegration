{
 "cells": [
  {
   "cell_type": "markdown",
   "id": "6bf6d455",
   "metadata": {},
   "source": [
    "## Data Pull\n"
   ]
  },
  {
   "cell_type": "code",
   "execution_count": 29,
   "id": "389cad72",
   "metadata": {},
   "outputs": [],
   "source": [
    "import os\n",
    "import yfinance as yf\n",
    "import pandas as pd\n",
    "import numpy as np\n",
    "from statsmodels.tsa.stattools import coint\n",
    "from statsmodels.tsa.vector_ar.vecm import coint_johansen\n",
    "import os\n",
    "\n",
    "basket_1 = [\"SNOW\", \"DDOG\", \"NET\", \"ESTC\", \"MDB\"]\n",
    "\n",
    "# Basket 2: Cloud Security (Next-Gen)\n",
    "basket_2 = [\"CRWD\", \"ZS\", \"PANW\", \"OKTA\", \"S\"]\n",
    "\n",
    "# Basket 3: Enterprise SaaS Platforms\n",
    "basket_3 = [\"CRM\", \"NOW\", \"WDAY\", \"TEAM\", \"HUBS\"]\n",
    "\n",
    "# Basket 4: Ad Tech (Programmatic)\n",
    "basket_4 = [\"TTD\", \"TRADE\", \"MGNI\", \"PUBM\", \"RAMP\"]\n",
    "\n",
    "# Basket 5: Analog Semiconductors\n",
    "basket_5 = [\"TXN\", \"ADI\", \"MCHP\", \"ON\", \"NXPI\"]\n",
    "\n",
    "# Basket 6: GPU/AI Accelerators\n",
    "basket_6 = [\"AMD\", \"NVDA\", \"AVGO\", \"MRVL\", \"QCOM\"]\n",
    "\n",
    "# Basket 7: Communication/Collaboration SaaS\n",
    "basket_7 = [\"ZM\", \"TWLO\", \"DOCU\", \"RNG\", \"FIVN\"]\n",
    "\n",
    "# Basket 8: Payments/Fintech\n",
    "basket_8 = [\"PYPL\", \"SQ\", \"BILL\", \"SHOP\", \"MELI\"]\n",
    "\n",
    "# Basket 9: DevOps/Developer Tools\n",
    "basket_9 = [\"GTLB\", \"FROG\", \"PD\", \"DOCN\", \"CFLT\"]\n",
    "\n",
    "# Basket 10: Networking Infrastructure\n",
    "basket_10 = [\"CSCO\", \"ANET\", \"CIEN\", \"JNPR\", \"VMW\"]\n",
    "\n",
    "# Basket 11: E-commerce Platforms (weaker grouping)\n",
    "basket_11 = [\"EBAY\", \"WIX\", \"BIGC\", \"AMZN\", \"U\"]\n",
    "\n",
    "# Basket 12: Security (Identity/Access)\n",
    "basket_12 = [\"SAIL\", \"VRNS\", \"CYBR\", \"TENB\", \"CHKP\"]\n",
    "\n",
    "# Basket 13: Semiconductor Equipment (MPWR doesn't fit perfectly)\n",
    "basket_13 = [\"LRCX\", \"KLAC\", \"AMAT\", \"ENTG\", \"MPWR\"]\n",
    "\n",
    "# Basket 14: Social/Consumer Content\n",
    "basket_14 = [\"META\", \"PINS\", \"SNAP\", \"SPOT\", \"ROKU\"]\n",
    "\n",
    "# Basket 15: Productivity/Work Management (weakest grouping)\n",
    "basket_15 = [\"ASAN\", \"SMAR\", \"DOMO\", \"VEEV\", \"PCTY\"]\n",
    "\n",
    "# All baskets in a list\n",
    "all_baskets = [\n",
    "    basket_1, basket_2, basket_3, basket_4, basket_5,\n",
    "    basket_6, basket_7, basket_8, basket_9, basket_10,\n",
    "    basket_11, basket_12, basket_13, basket_14, basket_15\n",
    "]\n"
   ]
  },
  {
   "cell_type": "code",
   "execution_count": 30,
   "id": "af94e38b",
   "metadata": {},
   "outputs": [
    {
     "name": "stdout",
     "output_type": "stream",
     "text": [
      "Downloading data for 5 stocks...\n"
     ]
    },
    {
     "name": "stderr",
     "output_type": "stream",
     "text": [
      "C:\\Users\\mgray\\AppData\\Local\\Temp\\ipykernel_35988\\1234747663.py:7: FutureWarning: YF.download() has changed argument auto_adjust default to True\n",
      "  data = yf.download(tickers, period=period)\n",
      "[*********************100%***********************]  5 of 5 completed\n",
      "C:\\Users\\mgray\\AppData\\Local\\Temp\\ipykernel_35988\\1234747663.py:34: FutureWarning: YF.download() has changed argument auto_adjust default to True\n",
      "  data = yf.download(tickers, period=period)\n",
      "[                       0%                       ]"
     ]
    },
    {
     "name": "stdout",
     "output_type": "stream",
     "text": [
      "Final dataset: 5 stocks\n",
      "Downloading close prices for 5 stocks...\n"
     ]
    },
    {
     "name": "stderr",
     "output_type": "stream",
     "text": [
      "[*********************100%***********************]  5 of 5 completed"
     ]
    },
    {
     "name": "stdout",
     "output_type": "stream",
     "text": [
      "Final dataset: 5 stocks\n"
     ]
    },
    {
     "name": "stderr",
     "output_type": "stream",
     "text": [
      "\n"
     ]
    }
   ],
   "source": [
    "import numpy as np\n",
    "\n",
    "def get_price_data(tickers, period=\"1y\", max_missing=25, log_prices=True):\n",
    "           \"\"\"Download and clean stock price data, save to CSV files\"\"\"\n",
    "           try:\n",
    "               print(f\"Downloading data for {len(tickers)} stocks...\")\n",
    "               data = yf.download(tickers, period=period)\n",
    "\n",
    "               # Clean missing data\n",
    "               close_missing = data[\"Close\"].isnull().sum()\n",
    "               stocks_to_drop = close_missing[close_missing > max_missing].index.tolist()\n",
    "\n",
    "               if stocks_to_drop:\n",
    "                   print(f\"Dropping {len(stocks_to_drop)} stocks with >{max_missing} missing values\")\n",
    "                   data = data.drop(stocks_to_drop, axis=1, level=1)\n",
    "\n",
    "               # Save files\n",
    "               data.to_csv(\"data.csv\")\n",
    "               # Simple summary\n",
    "               remaining_stocks = len(data.columns.get_level_values(1).unique())\n",
    "               print(f\"Final dataset: {remaining_stocks} stocks\")\n",
    "\n",
    "               return data\n",
    "\n",
    "           except Exception as e:\n",
    "               print(f\"Error downloading data: {e}\")\n",
    "               return None\n",
    "\n",
    "clean_data = get_price_data(basket_1, max_missing=25)\n",
    "\n",
    "def get_close_price_data(tickers, period=\"1y\", max_missing=25, log_prices=True):\n",
    "        try:\n",
    "            print(f\"Downloading close prices for {len(tickers)} stocks...\")\n",
    "            data = yf.download(tickers, period=period)\n",
    "            close_data = data[\"Close\"]\n",
    "            missing = close_data.isnull().sum()\n",
    "            close_data = close_data.drop(missing[missing > max_missing].index, axis=1)\n",
    "            close_data = close_data.ffill()\n",
    "        \n",
    "            if log_prices:\n",
    "                close_data = np.log(close_data)\n",
    "        \n",
    "            filename = \"_\".join(tickers) + \".csv\"\n",
    "            close_data.to_csv(filename)\n",
    "        \n",
    "            print(f\"Final dataset: {len(close_data.columns)} stocks\")\n",
    "            return close_data\n",
    "        \n",
    "        except Exception as e:\n",
    "            print(f\"Error: {e}\")\n",
    "            return None\n",
    "\n",
    "\n",
    "close_data = get_close_price_data(basket_1, max_missing=25)\n",
    "      \n"
   ]
  },
  {
   "cell_type": "markdown",
   "id": "3e8a84f6",
   "metadata": {},
   "source": [
    "## Data Retrieval For Each Basket:"
   ]
  },
  {
   "cell_type": "code",
   "execution_count": 31,
   "id": "0dc32320",
   "metadata": {},
   "outputs": [
    {
     "name": "stderr",
     "output_type": "stream",
     "text": [
      "C:\\Users\\mgray\\AppData\\Local\\Temp\\ipykernel_35988\\1234747663.py:34: FutureWarning: YF.download() has changed argument auto_adjust default to True\n",
      "  data = yf.download(tickers, period=period)\n"
     ]
    },
    {
     "name": "stdout",
     "output_type": "stream",
     "text": [
      "Downloading close prices for 5 stocks...\n"
     ]
    },
    {
     "name": "stderr",
     "output_type": "stream",
     "text": [
      "[*********************100%***********************]  5 of 5 completed\n",
      "C:\\Users\\mgray\\AppData\\Local\\Temp\\ipykernel_35988\\1234747663.py:34: FutureWarning: YF.download() has changed argument auto_adjust default to True\n",
      "  data = yf.download(tickers, period=period)\n",
      "[*******************   40%                       ]  2 of 5 completed"
     ]
    },
    {
     "name": "stdout",
     "output_type": "stream",
     "text": [
      "Final dataset: 5 stocks\n",
      "Downloading close prices for 5 stocks...\n"
     ]
    },
    {
     "name": "stderr",
     "output_type": "stream",
     "text": [
      "[*********************100%***********************]  5 of 5 completed\n",
      "C:\\Users\\mgray\\AppData\\Local\\Temp\\ipykernel_35988\\1234747663.py:34: FutureWarning: YF.download() has changed argument auto_adjust default to True\n",
      "  data = yf.download(tickers, period=period)\n",
      "[                       0%                       ]"
     ]
    },
    {
     "name": "stdout",
     "output_type": "stream",
     "text": [
      "Final dataset: 5 stocks\n",
      "Downloading close prices for 5 stocks...\n"
     ]
    },
    {
     "name": "stderr",
     "output_type": "stream",
     "text": [
      "[*********************100%***********************]  5 of 5 completed\n",
      "C:\\Users\\mgray\\AppData\\Local\\Temp\\ipykernel_35988\\1234747663.py:34: FutureWarning: YF.download() has changed argument auto_adjust default to True\n",
      "  data = yf.download(tickers, period=period)\n"
     ]
    },
    {
     "name": "stdout",
     "output_type": "stream",
     "text": [
      "Final dataset: 5 stocks\n",
      "Downloading close prices for 5 stocks...\n"
     ]
    },
    {
     "name": "stderr",
     "output_type": "stream",
     "text": [
      "[*********************100%***********************]  5 of 5 completed\n",
      "\n",
      "1 Failed download:\n",
      "['TRADE']: YFPricesMissingError('possibly delisted; no price data found  (period=1y) (Yahoo error = \"No data found, symbol may be delisted\")')\n",
      "C:\\Users\\mgray\\AppData\\Local\\Temp\\ipykernel_35988\\1234747663.py:34: FutureWarning: YF.download() has changed argument auto_adjust default to True\n",
      "  data = yf.download(tickers, period=period)\n",
      "[**********************60%****                   ]  3 of 5 completed"
     ]
    },
    {
     "name": "stdout",
     "output_type": "stream",
     "text": [
      "Final dataset: 4 stocks\n",
      "Downloading close prices for 5 stocks...\n"
     ]
    },
    {
     "name": "stderr",
     "output_type": "stream",
     "text": [
      "[*********************100%***********************]  5 of 5 completed\n",
      "C:\\Users\\mgray\\AppData\\Local\\Temp\\ipykernel_35988\\1234747663.py:34: FutureWarning: YF.download() has changed argument auto_adjust default to True\n",
      "  data = yf.download(tickers, period=period)\n",
      "[**********************60%****                   ]  3 of 5 completed"
     ]
    },
    {
     "name": "stdout",
     "output_type": "stream",
     "text": [
      "Final dataset: 5 stocks\n",
      "Downloading close prices for 5 stocks...\n"
     ]
    },
    {
     "name": "stderr",
     "output_type": "stream",
     "text": [
      "[*********************100%***********************]  5 of 5 completed\n",
      "C:\\Users\\mgray\\AppData\\Local\\Temp\\ipykernel_35988\\1234747663.py:34: FutureWarning: YF.download() has changed argument auto_adjust default to True\n",
      "  data = yf.download(tickers, period=period)\n",
      "[*********************100%***********************]  5 of 5 completed"
     ]
    },
    {
     "name": "stdout",
     "output_type": "stream",
     "text": [
      "Final dataset: 5 stocks\n",
      "Downloading close prices for 5 stocks...\n",
      "Final dataset: 5 stocks\n",
      "Downloading close prices for 5 stocks...\n"
     ]
    },
    {
     "name": "stderr",
     "output_type": "stream",
     "text": [
      "\n",
      "C:\\Users\\mgray\\AppData\\Local\\Temp\\ipykernel_35988\\1234747663.py:34: FutureWarning: YF.download() has changed argument auto_adjust default to True\n",
      "  data = yf.download(tickers, period=period)\n",
      "[*********************100%***********************]  5 of 5 completed\n",
      "\n",
      "1 Failed download:\n",
      "['SQ']: YFPricesMissingError('possibly delisted; no price data found  (period=1y) (Yahoo error = \"No data found, symbol may be delisted\")')\n",
      "C:\\Users\\mgray\\AppData\\Local\\Temp\\ipykernel_35988\\1234747663.py:34: FutureWarning: YF.download() has changed argument auto_adjust default to True\n",
      "  data = yf.download(tickers, period=period)\n",
      "[*********************100%***********************]  5 of 5 completed"
     ]
    },
    {
     "name": "stdout",
     "output_type": "stream",
     "text": [
      "Final dataset: 4 stocks\n",
      "Downloading close prices for 5 stocks...\n",
      "Final dataset: 5 stocks\n",
      "Downloading close prices for 5 stocks...\n"
     ]
    },
    {
     "name": "stderr",
     "output_type": "stream",
     "text": [
      "\n",
      "C:\\Users\\mgray\\AppData\\Local\\Temp\\ipykernel_35988\\1234747663.py:34: FutureWarning: YF.download() has changed argument auto_adjust default to True\n",
      "  data = yf.download(tickers, period=period)\n",
      "[*********************100%***********************]  5 of 5 completed\n",
      "\n",
      "2 Failed downloads:\n",
      "['VMW', 'JNPR']: YFPricesMissingError('possibly delisted; no price data found  (period=1y) (Yahoo error = \"No data found, symbol may be delisted\")')\n",
      "C:\\Users\\mgray\\AppData\\Local\\Temp\\ipykernel_35988\\1234747663.py:34: FutureWarning: YF.download() has changed argument auto_adjust default to True\n",
      "  data = yf.download(tickers, period=period)\n"
     ]
    },
    {
     "name": "stdout",
     "output_type": "stream",
     "text": [
      "Final dataset: 3 stocks\n",
      "Downloading close prices for 5 stocks...\n"
     ]
    },
    {
     "name": "stderr",
     "output_type": "stream",
     "text": [
      "[*********************100%***********************]  5 of 5 completed\n",
      "\n",
      "1 Failed download:\n",
      "['BIGC']: YFPricesMissingError('possibly delisted; no price data found  (period=1y) (Yahoo error = \"No data found, symbol may be delisted\")')\n",
      "C:\\Users\\mgray\\AppData\\Local\\Temp\\ipykernel_35988\\1234747663.py:34: FutureWarning: YF.download() has changed argument auto_adjust default to True\n",
      "  data = yf.download(tickers, period=period)\n",
      "[*******************   40%                       ]  2 of 5 completed"
     ]
    },
    {
     "name": "stdout",
     "output_type": "stream",
     "text": [
      "Final dataset: 4 stocks\n",
      "Downloading close prices for 5 stocks...\n"
     ]
    },
    {
     "name": "stderr",
     "output_type": "stream",
     "text": [
      "[*********************100%***********************]  5 of 5 completed\n",
      "C:\\Users\\mgray\\AppData\\Local\\Temp\\ipykernel_35988\\1234747663.py:34: FutureWarning: YF.download() has changed argument auto_adjust default to True\n",
      "  data = yf.download(tickers, period=period)\n",
      "[                       0%                       ]"
     ]
    },
    {
     "name": "stdout",
     "output_type": "stream",
     "text": [
      "Final dataset: 4 stocks\n",
      "Downloading close prices for 5 stocks...\n"
     ]
    },
    {
     "name": "stderr",
     "output_type": "stream",
     "text": [
      "[*********************100%***********************]  5 of 5 completed\n",
      "C:\\Users\\mgray\\AppData\\Local\\Temp\\ipykernel_35988\\1234747663.py:34: FutureWarning: YF.download() has changed argument auto_adjust default to True\n",
      "  data = yf.download(tickers, period=period)\n",
      "[**********************80%*************          ]  4 of 5 completed"
     ]
    },
    {
     "name": "stdout",
     "output_type": "stream",
     "text": [
      "Final dataset: 5 stocks\n",
      "Downloading close prices for 5 stocks...\n"
     ]
    },
    {
     "name": "stderr",
     "output_type": "stream",
     "text": [
      "[*********************100%***********************]  5 of 5 completed\n",
      "C:\\Users\\mgray\\AppData\\Local\\Temp\\ipykernel_35988\\1234747663.py:34: FutureWarning: YF.download() has changed argument auto_adjust default to True\n",
      "  data = yf.download(tickers, period=period)\n",
      "[**********************80%*************          ]  4 of 5 completed"
     ]
    },
    {
     "name": "stdout",
     "output_type": "stream",
     "text": [
      "Final dataset: 5 stocks\n",
      "Downloading close prices for 5 stocks...\n"
     ]
    },
    {
     "name": "stderr",
     "output_type": "stream",
     "text": [
      "[*********************100%***********************]  5 of 5 completed\n",
      "\n",
      "1 Failed download:\n",
      "['SMAR']: YFPricesMissingError('possibly delisted; no price data found  (period=1y) (Yahoo error = \"No data found, symbol may be delisted\")')\n"
     ]
    },
    {
     "name": "stdout",
     "output_type": "stream",
     "text": [
      "Final dataset: 4 stocks\n"
     ]
    }
   ],
   "source": [
    "''' I need data for each basket, I can run a for loop across my function or make a new one'''\n",
    "\n",
    "def get_all_close_data(tickers_super_list):\n",
    "    for baskets in tickers_super_list:\n",
    "        get_close_price_data(baskets, max_missing=25)\n",
    "\n",
    "get_all_close_data(all_baskets)\n",
    "    "
   ]
  },
  {
   "cell_type": "markdown",
   "id": "0823bd3b",
   "metadata": {},
   "source": [
    "## Johansen Cointegration Testing On Baskets:"
   ]
  },
  {
   "cell_type": "code",
   "execution_count": 32,
   "id": "2f73ce41",
   "metadata": {},
   "outputs": [
    {
     "name": "stdout",
     "output_type": "stream",
     "text": [
      "\n",
      "AMD_NVDA_AVGO_MRVL_QCOM\n",
      "1\n",
      "\n",
      "ASAN_SMAR_DOMO_VEEV_PCTY\n",
      "0\n",
      "\n",
      "CRM_NOW_WDAY_TEAM_HUBS\n",
      "1\n",
      "\n",
      "CRWD_ZS_PANW_OKTA_S\n",
      "0\n",
      "\n",
      "CSCO_ANET_CIEN_JNPR_VMW\n",
      "0\n",
      "\n",
      "EBAY_WIX_BIGC_AMZN_U\n",
      "0\n",
      "\n",
      "GTLB_FROG_PD_DOCN_CFLT\n",
      "1\n",
      "\n",
      "LRCX_KLAC_AMAT_ENTG_MPWR\n",
      "0\n",
      "\n",
      "META_PINS_SNAP_SPOT_ROKU\n",
      "1\n",
      "\n",
      "PYPL_SQ_BILL_SHOP_MELI\n",
      "0\n",
      "\n",
      "SAIL_VRNS_CYBR_TENB_CHKP\n",
      "3\n",
      "\n",
      "SNOW_DDOG_NET_ESTC_MDB\n",
      "1\n",
      "\n",
      "TTD_TRADE_MGNI_PUBM_RAMP\n",
      "0\n",
      "\n",
      "TXN_ADI_MCHP_ON_NXPI\n",
      "0\n",
      "\n",
      "ZM_TWLO_DOCU_RNG_FIVN\n",
      "0\n"
     ]
    }
   ],
   "source": [
    "\n",
    "def load_all_csv(folder_path=\".\"):\n",
    "    '''load all CSVs from folder into a dictionary of DataFrames'''\n",
    "    dfs = {}\n",
    "    for file in os.listdir(folder_path):\n",
    "        if file.endswith('.csv') and '_' in file and file != 'data.csv':\n",
    "            basket_name = file.replace('.csv', '')\n",
    "            df = pd.read_csv(os.path.join(folder_path, file), index_col=0)\n",
    "            dfs[basket_name] = df\n",
    "    return dfs\n",
    "\n",
    "all_data = load_all_csv()\n",
    "\n",
    "\n",
    "def run_johansen(df):\n",
    "    \"\"\"Run Johansen cointegration test on a basket\"\"\"\n",
    "    result = coint_johansen(df, det_order=0, k_ar_diff=1)\n",
    "    \n",
    "    print(\"Trace Statistics:\", result.lr1)\n",
    "    print(\"Critical Values (95%):\", result.cvt[:, 1])\n",
    "    print(\"\\nCointegrating relationships:\", sum(result.lr1 > result.cvt[:, 1]))\n",
    "    \n",
    "    return result\n",
    "\n",
    "\n",
    "def test_all_baskets(all_data, crit_level=0):\n",
    "    \"\"\"\n",
    "    crit_level: 0=90%, 1=95%, 2=99%\n",
    "    \"\"\"\n",
    "    for name, df in all_data.items():\n",
    "        print(f\"\\n{name}\")\n",
    "        result = coint_johansen(df, det_order=0, k_ar_diff=5)\n",
    "        n_coint = sum(result.lr1 > result.cvt[:, crit_level])\n",
    "        print(n_coint)\n",
    "\n",
    "test_all_baskets(all_data)"
   ]
  }
 ],
 "metadata": {
  "kernelspec": {
   "display_name": "Python 3",
   "language": "python",
   "name": "python3"
  },
  "language_info": {
   "codemirror_mode": {
    "name": "ipython",
    "version": 3
   },
   "file_extension": ".py",
   "mimetype": "text/x-python",
   "name": "python",
   "nbconvert_exporter": "python",
   "pygments_lexer": "ipython3",
   "version": "3.9.5"
  }
 },
 "nbformat": 4,
 "nbformat_minor": 5
}
