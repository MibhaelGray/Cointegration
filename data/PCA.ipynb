{
 "cells": [
  {
   "cell_type": "markdown",
   "id": "6bf6d455",
   "metadata": {},
   "source": [
    "## Data Pull\n"
   ]
  },
  {
   "cell_type": "code",
   "execution_count": 1,
   "id": "389cad72",
   "metadata": {},
   "outputs": [],
   "source": [
    "import os\n",
    "import yfinance as yf\n",
    "import pandas as pd\n",
    "import numpy as np\n",
    "from statsmodels.tsa.stattools import coint\n",
    "from statsmodels.tsa.vector_ar.vecm import coint_johansen\n",
    "import os\n",
    "\n",
    "basket_1 = [\"SNOW\", \"DDOG\", \"NET\", \"ESTC\", \"MDB\"]\n",
    "\n",
    "# Basket 2: Cloud Security (Next-Gen)\n",
    "basket_2 = [\"CRWD\", \"ZS\", \"PANW\", \"OKTA\", \"S\"]\n",
    "\n",
    "# Basket 3: Enterprise SaaS Platforms\n",
    "basket_3 = [\"CRM\", \"NOW\", \"WDAY\", \"TEAM\", \"HUBS\"]\n",
    "\n",
    "# Basket 4: Ad Tech (Programmatic)\n",
    "basket_4 = [\"TTD\", \"TRADE\", \"MGNI\", \"PUBM\", \"RAMP\"]\n",
    "\n",
    "# Basket 5: Analog Semiconductors\n",
    "basket_5 = [\"TXN\", \"ADI\", \"MCHP\", \"ON\", \"NXPI\"]\n",
    "\n",
    "# Basket 6: GPU/AI Accelerators\n",
    "basket_6 = [\"AMD\", \"NVDA\", \"AVGO\", \"MRVL\", \"QCOM\"]\n",
    "\n",
    "# Basket 7: Communication/Collaboration SaaS\n",
    "basket_7 = [\"ZM\", \"TWLO\", \"DOCU\", \"RNG\", \"FIVN\"]\n",
    "\n",
    "# Basket 8: Payments/Fintech\n",
    "basket_8 = [\"PYPL\", \"SQ\", \"BILL\", \"SHOP\", \"MELI\"]\n",
    "\n",
    "# Basket 9: DevOps/Developer Tools\n",
    "basket_9 = [\"GTLB\", \"FROG\", \"PD\", \"DOCN\", \"CFLT\"]\n",
    "\n",
    "# Basket 10: Networking Infrastructure\n",
    "basket_10 = [\"CSCO\", \"ANET\", \"CIEN\", \"JNPR\", \"VMW\"]\n",
    "\n",
    "# Basket 11: E-commerce Platforms (weaker grouping)\n",
    "basket_11 = [\"EBAY\", \"WIX\", \"BIGC\", \"AMZN\", \"U\"]\n",
    "\n",
    "# Basket 12: Security (Identity/Access)\n",
    "basket_12 = [\"SAIL\", \"VRNS\", \"CYBR\", \"TENB\", \"CHKP\"]\n",
    "\n",
    "# Basket 13: Semiconductor Equipment (MPWR doesn't fit perfectly)\n",
    "basket_13 = [\"LRCX\", \"KLAC\", \"AMAT\", \"ENTG\", \"MPWR\"]\n",
    "\n",
    "# Basket 14: Social/Consumer Content\n",
    "basket_14 = [\"META\", \"PINS\", \"SNAP\", \"SPOT\", \"ROKU\"]\n",
    "\n",
    "# Basket 15: Productivity/Work Management (weakest grouping)\n",
    "basket_15 = [\"ASAN\", \"SMAR\", \"DOMO\", \"VEEV\", \"PCTY\"]\n",
    "\n",
    "# All baskets in a list\n",
    "all_baskets = [\n",
    "    basket_1, basket_2, basket_3, basket_4, basket_5,\n",
    "    basket_6, basket_7, basket_8, basket_9, basket_10,\n",
    "    basket_11, basket_12, basket_13, basket_14, basket_15\n",
    "]\n"
   ]
  },
  {
   "cell_type": "code",
   "execution_count": 2,
   "id": "af94e38b",
   "metadata": {},
   "outputs": [
    {
     "name": "stdout",
     "output_type": "stream",
     "text": [
      "Downloading data for 5 stocks...\n"
     ]
    },
    {
     "name": "stderr",
     "output_type": "stream",
     "text": [
      "C:\\Users\\mgray\\AppData\\Local\\Temp\\ipykernel_35988\\3807781272.py:7: FutureWarning: YF.download() has changed argument auto_adjust default to True\n",
      "  data = yf.download(tickers, period=period)\n",
      "[*********************100%***********************]  5 of 5 completed\n",
      "C:\\Users\\mgray\\AppData\\Local\\Temp\\ipykernel_35988\\3807781272.py:34: FutureWarning: YF.download() has changed argument auto_adjust default to True\n",
      "  data = yf.download(tickers, period=period)\n",
      "[*********************100%***********************]  5 of 5 completed"
     ]
    },
    {
     "name": "stdout",
     "output_type": "stream",
     "text": [
      "Final dataset: 5 stocks\n",
      "Downloading close prices for 5 stocks...\n",
      "Final dataset: 5 stocks\n"
     ]
    },
    {
     "name": "stderr",
     "output_type": "stream",
     "text": [
      "\n"
     ]
    }
   ],
   "source": [
    "import numpy as np\n",
    "\n",
    "def get_price_data(tickers, period=\"2y\", max_missing=25, log_prices=True):\n",
    "           \"\"\"Download and clean stock price data, save to CSV files\"\"\"\n",
    "           try:\n",
    "               print(f\"Downloading data for {len(tickers)} stocks...\")\n",
    "               data = yf.download(tickers, period=period)\n",
    "\n",
    "               # Clean missing data\n",
    "               close_missing = data[\"Close\"].isnull().sum()\n",
    "               stocks_to_drop = close_missing[close_missing > max_missing].index.tolist()\n",
    "\n",
    "               if stocks_to_drop:\n",
    "                   print(f\"Dropping {len(stocks_to_drop)} stocks with >{max_missing} missing values\")\n",
    "                   data = data.drop(stocks_to_drop, axis=1, level=1)\n",
    "\n",
    "               # Save files\n",
    "               data.to_csv(\"data.csv\")\n",
    "               # Simple summary\n",
    "               remaining_stocks = len(data.columns.get_level_values(1).unique())\n",
    "               print(f\"Final dataset: {remaining_stocks} stocks\")\n",
    "\n",
    "               return data\n",
    "\n",
    "           except Exception as e:\n",
    "               print(f\"Error downloading data: {e}\")\n",
    "               return None\n",
    "\n",
    "clean_data = get_price_data(basket_1, max_missing=25)\n",
    "\n",
    "def get_close_price_data(tickers, period=\"2y\", max_missing=25, log_prices=True):\n",
    "        try:\n",
    "            print(f\"Downloading close prices for {len(tickers)} stocks...\")\n",
    "            data = yf.download(tickers, period=period)\n",
    "            close_data = data[\"Close\"]\n",
    "            missing = close_data.isnull().sum()\n",
    "            close_data = close_data.drop(missing[missing > max_missing].index, axis=1)\n",
    "            close_data = close_data.ffill()\n",
    "        \n",
    "            if log_prices:\n",
    "                close_data = np.log(close_data)\n",
    "        \n",
    "            filename = \"_\".join(tickers) + \".csv\"\n",
    "            close_data.to_csv(filename)\n",
    "        \n",
    "            print(f\"Final dataset: {len(close_data.columns)} stocks\")\n",
    "            return close_data\n",
    "        \n",
    "        except Exception as e:\n",
    "            print(f\"Error: {e}\")\n",
    "            return None\n",
    "\n",
    "\n",
    "close_data = get_close_price_data(basket_1, max_missing=25)\n",
    "      \n"
   ]
  },
  {
   "cell_type": "markdown",
   "id": "3e8a84f6",
   "metadata": {},
   "source": [
    "## Data Retrieval For Each Basket:"
   ]
  },
  {
   "cell_type": "code",
   "execution_count": 3,
   "id": "0dc32320",
   "metadata": {},
   "outputs": [
    {
     "name": "stderr",
     "output_type": "stream",
     "text": [
      "C:\\Users\\mgray\\AppData\\Local\\Temp\\ipykernel_35988\\3807781272.py:34: FutureWarning: YF.download() has changed argument auto_adjust default to True\n",
      "  data = yf.download(tickers, period=period)\n",
      "[*******************   40%                       ]  2 of 5 completed"
     ]
    },
    {
     "name": "stdout",
     "output_type": "stream",
     "text": [
      "Downloading close prices for 5 stocks...\n"
     ]
    },
    {
     "name": "stderr",
     "output_type": "stream",
     "text": [
      "[*********************100%***********************]  5 of 5 completed\n",
      "C:\\Users\\mgray\\AppData\\Local\\Temp\\ipykernel_35988\\3807781272.py:34: FutureWarning: YF.download() has changed argument auto_adjust default to True\n",
      "  data = yf.download(tickers, period=period)\n",
      "[*********************100%***********************]  5 of 5 completed"
     ]
    },
    {
     "name": "stdout",
     "output_type": "stream",
     "text": [
      "Final dataset: 5 stocks\n",
      "Downloading close prices for 5 stocks...\n",
      "Final dataset: 5 stocks\n",
      "Downloading close prices for 5 stocks...\n"
     ]
    },
    {
     "name": "stderr",
     "output_type": "stream",
     "text": [
      "\n",
      "C:\\Users\\mgray\\AppData\\Local\\Temp\\ipykernel_35988\\3807781272.py:34: FutureWarning: YF.download() has changed argument auto_adjust default to True\n",
      "  data = yf.download(tickers, period=period)\n",
      "[*********************100%***********************]  5 of 5 completed\n",
      "C:\\Users\\mgray\\AppData\\Local\\Temp\\ipykernel_35988\\3807781272.py:34: FutureWarning: YF.download() has changed argument auto_adjust default to True\n",
      "  data = yf.download(tickers, period=period)\n",
      "[**********************60%****                   ]  3 of 5 completed"
     ]
    },
    {
     "name": "stdout",
     "output_type": "stream",
     "text": [
      "Final dataset: 5 stocks\n",
      "Downloading close prices for 5 stocks...\n"
     ]
    },
    {
     "name": "stderr",
     "output_type": "stream",
     "text": [
      "HTTP Error 404: \n",
      "[*********************100%***********************]  4 of 5 completed\n",
      "\n",
      "1 Failed download:\n",
      "['TRADE']: YFPricesMissingError('possibly delisted; no price data found  (period=2y) (Yahoo error = \"No data found, symbol may be delisted\")')\n",
      "C:\\Users\\mgray\\AppData\\Local\\Temp\\ipykernel_35988\\3807781272.py:34: FutureWarning: YF.download() has changed argument auto_adjust default to True\n",
      "  data = yf.download(tickers, period=period)\n",
      "[**********************60%****                   ]  3 of 5 completed"
     ]
    },
    {
     "name": "stdout",
     "output_type": "stream",
     "text": [
      "Final dataset: 4 stocks\n",
      "Downloading close prices for 5 stocks...\n"
     ]
    },
    {
     "name": "stderr",
     "output_type": "stream",
     "text": [
      "[*********************100%***********************]  5 of 5 completed\n",
      "C:\\Users\\mgray\\AppData\\Local\\Temp\\ipykernel_35988\\3807781272.py:34: FutureWarning: YF.download() has changed argument auto_adjust default to True\n",
      "  data = yf.download(tickers, period=period)\n",
      "[**********************60%****                   ]  3 of 5 completed"
     ]
    },
    {
     "name": "stdout",
     "output_type": "stream",
     "text": [
      "Final dataset: 5 stocks\n",
      "Downloading close prices for 5 stocks...\n"
     ]
    },
    {
     "name": "stderr",
     "output_type": "stream",
     "text": [
      "[*********************100%***********************]  5 of 5 completed\n",
      "C:\\Users\\mgray\\AppData\\Local\\Temp\\ipykernel_35988\\3807781272.py:34: FutureWarning: YF.download() has changed argument auto_adjust default to True\n",
      "  data = yf.download(tickers, period=period)\n",
      "[*********************100%***********************]  5 of 5 completed"
     ]
    },
    {
     "name": "stdout",
     "output_type": "stream",
     "text": [
      "Final dataset: 5 stocks\n",
      "Downloading close prices for 5 stocks...\n",
      "Final dataset: 5 stocks\n",
      "Downloading close prices for 5 stocks...\n"
     ]
    },
    {
     "name": "stderr",
     "output_type": "stream",
     "text": [
      "\n",
      "C:\\Users\\mgray\\AppData\\Local\\Temp\\ipykernel_35988\\3807781272.py:34: FutureWarning: YF.download() has changed argument auto_adjust default to True\n",
      "  data = yf.download(tickers, period=period)\n",
      "[*********************100%***********************]  5 of 5 completed\n",
      "\n",
      "1 Failed download:\n",
      "['SQ']: YFPricesMissingError('possibly delisted; no price data found  (period=2y) (Yahoo error = \"No data found, symbol may be delisted\")')\n",
      "C:\\Users\\mgray\\AppData\\Local\\Temp\\ipykernel_35988\\3807781272.py:34: FutureWarning: YF.download() has changed argument auto_adjust default to True\n",
      "  data = yf.download(tickers, period=period)\n",
      "[*********************100%***********************]  5 of 5 completed\n",
      "C:\\Users\\mgray\\AppData\\Local\\Temp\\ipykernel_35988\\3807781272.py:34: FutureWarning: YF.download() has changed argument auto_adjust default to True\n",
      "  data = yf.download(tickers, period=period)\n"
     ]
    },
    {
     "name": "stdout",
     "output_type": "stream",
     "text": [
      "Final dataset: 4 stocks\n",
      "Downloading close prices for 5 stocks...\n",
      "Final dataset: 5 stocks\n",
      "Downloading close prices for 5 stocks...\n"
     ]
    },
    {
     "name": "stderr",
     "output_type": "stream",
     "text": [
      "[*********************100%***********************]  4 of 5 completed\n",
      "\n",
      "2 Failed downloads:\n",
      "['JNPR', 'VMW']: YFPricesMissingError('possibly delisted; no price data found  (period=2y) (Yahoo error = \"No data found, symbol may be delisted\")')\n",
      "C:\\Users\\mgray\\AppData\\Local\\Temp\\ipykernel_35988\\3807781272.py:34: FutureWarning: YF.download() has changed argument auto_adjust default to True\n",
      "  data = yf.download(tickers, period=period)\n",
      "[**********************80%*************          ]  4 of 5 completed"
     ]
    },
    {
     "name": "stdout",
     "output_type": "stream",
     "text": [
      "Final dataset: 3 stocks\n",
      "Downloading close prices for 5 stocks...\n"
     ]
    },
    {
     "name": "stderr",
     "output_type": "stream",
     "text": [
      "[*********************100%***********************]  5 of 5 completed\n",
      "\n",
      "1 Failed download:\n",
      "['BIGC']: YFPricesMissingError('possibly delisted; no price data found  (period=2y) (Yahoo error = \"No data found, symbol may be delisted\")')\n",
      "C:\\Users\\mgray\\AppData\\Local\\Temp\\ipykernel_35988\\3807781272.py:34: FutureWarning: YF.download() has changed argument auto_adjust default to True\n",
      "  data = yf.download(tickers, period=period)\n",
      "[*********************100%***********************]  5 of 5 completed\n",
      "C:\\Users\\mgray\\AppData\\Local\\Temp\\ipykernel_35988\\3807781272.py:34: FutureWarning: YF.download() has changed argument auto_adjust default to True\n",
      "  data = yf.download(tickers, period=period)\n"
     ]
    },
    {
     "name": "stdout",
     "output_type": "stream",
     "text": [
      "Final dataset: 4 stocks\n",
      "Downloading close prices for 5 stocks...\n",
      "Final dataset: 4 stocks\n",
      "Downloading close prices for 5 stocks...\n"
     ]
    },
    {
     "name": "stderr",
     "output_type": "stream",
     "text": [
      "[*********************100%***********************]  5 of 5 completed\n",
      "C:\\Users\\mgray\\AppData\\Local\\Temp\\ipykernel_35988\\3807781272.py:34: FutureWarning: YF.download() has changed argument auto_adjust default to True\n",
      "  data = yf.download(tickers, period=period)\n",
      "[**********************60%****                   ]  3 of 5 completed"
     ]
    },
    {
     "name": "stdout",
     "output_type": "stream",
     "text": [
      "Final dataset: 5 stocks\n",
      "Downloading close prices for 5 stocks...\n"
     ]
    },
    {
     "name": "stderr",
     "output_type": "stream",
     "text": [
      "[*********************100%***********************]  5 of 5 completed\n",
      "C:\\Users\\mgray\\AppData\\Local\\Temp\\ipykernel_35988\\3807781272.py:34: FutureWarning: YF.download() has changed argument auto_adjust default to True\n",
      "  data = yf.download(tickers, period=period)\n",
      "[**********************60%****                   ]  3 of 5 completed"
     ]
    },
    {
     "name": "stdout",
     "output_type": "stream",
     "text": [
      "Final dataset: 5 stocks\n",
      "Downloading close prices for 5 stocks...\n"
     ]
    },
    {
     "name": "stderr",
     "output_type": "stream",
     "text": [
      "[*********************100%***********************]  5 of 5 completed\n",
      "\n",
      "1 Failed download:\n",
      "['SMAR']: YFPricesMissingError('possibly delisted; no price data found  (period=2y) (Yahoo error = \"No data found, symbol may be delisted\")')\n"
     ]
    },
    {
     "name": "stdout",
     "output_type": "stream",
     "text": [
      "Final dataset: 4 stocks\n"
     ]
    }
   ],
   "source": [
    "''' I need data for each basket, I can run a for loop across my function or make a new one'''\n",
    "\n",
    "def get_all_close_data(tickers_super_list):\n",
    "    for baskets in tickers_super_list:\n",
    "        get_close_price_data(baskets, max_missing=25)\n",
    "\n",
    "get_all_close_data(all_baskets)\n",
    "    "
   ]
  },
  {
   "cell_type": "markdown",
   "id": "0823bd3b",
   "metadata": {},
   "source": [
    "## Johansen Cointegration Testing On Baskets:"
   ]
  },
  {
   "cell_type": "code",
   "execution_count": null,
   "id": "2f73ce41",
   "metadata": {},
   "outputs": [
    {
     "name": "stderr",
     "output_type": "stream",
     "text": [
      "C:\\Users\\mgray\\AppData\\Local\\Temp\\ipykernel_35988\\3365003631.py:7: UserWarning: Could not infer format, so each element will be parsed individually, falling back to `dateutil`. To ensure parsing is consistent and as-expected, please specify a format.\n",
      "  dfs[basket_name] = pd.read_csv(os.path.join(folder_path, file), index_col=0, parse_dates=True)\n",
      "C:\\Users\\mgray\\AppData\\Local\\Temp\\ipykernel_35988\\3365003631.py:18: HypothesisTestWarning: Critical values are only available for time series with 12 variables at most.\n",
      "  result = coint_johansen(df, det_order=0, k_ar_diff=1)\n"
     ]
    },
    {
     "name": "stdout",
     "output_type": "stream",
     "text": [
      "Trace Statistics: [46.03779126 29.80579125 16.2756958   7.3642311   1.41593153]\n",
      "Critical Values (95%): [69.8189 47.8545 29.7961 15.4943  3.8415]\n",
      "\n",
      "Cointegrating relationships: 0\n",
      "\n",
      "============================================================\n",
      "Basket: AMD_NVDA_AVGO_MRVL_QCOM\n",
      "============================================================\n",
      "Trace Statistics: [44.61559391 28.02991695 14.28886661  6.46997809  1.20585419]\n",
      "Critical Values (95%): [69.8189 47.8545 29.7961 15.4943  3.8415]\n",
      "\n",
      "Cointegrating relationships: 0\n",
      "\n",
      "============================================================\n",
      "Basket: ASAN_SMAR_DOMO_VEEV_PCTY\n",
      "============================================================\n",
      "Trace Statistics: [46.15078675 10.37341652  3.06829454  0.13023237]\n",
      "Critical Values (95%): [47.8545 29.7961 15.4943  3.8415]\n",
      "\n",
      "Cointegrating relationships: 0\n",
      "\n",
      "============================================================\n",
      "Basket: CRM_NOW_WDAY_TEAM_HUBS\n",
      "============================================================\n",
      "Trace Statistics: [59.86180359 36.55607189 19.5781826   7.38800826  1.12890441]\n",
      "Critical Values (95%): [69.8189 47.8545 29.7961 15.4943  3.8415]\n",
      "\n",
      "Cointegrating relationships: 0\n",
      "\n",
      "============================================================\n",
      "Basket: CRWD_ZS_PANW_OKTA_S\n",
      "============================================================\n",
      "Trace Statistics: [58.03972652 34.3769416  15.27208011  6.30489081  0.81098538]\n",
      "Critical Values (95%): [69.8189 47.8545 29.7961 15.4943  3.8415]\n",
      "\n",
      "Cointegrating relationships: 0\n",
      "\n",
      "============================================================\n",
      "Basket: CSCO_ANET_CIEN_JNPR_VMW\n",
      "============================================================\n",
      "Trace Statistics: [17.96135319  5.57135601  0.07074412]\n",
      "Critical Values (95%): [29.7961 15.4943  3.8415]\n",
      "\n",
      "Cointegrating relationships: 0\n",
      "\n",
      "============================================================\n",
      "Basket: data\n",
      "============================================================\n"
     ]
    },
    {
     "ename": "TypeError",
     "evalue": "can't multiply sequence by non-int of type 'float'",
     "output_type": "error",
     "traceback": [
      "\u001b[1;31m---------------------------------------------------------------------------\u001b[0m",
      "\u001b[1;31mTypeError\u001b[0m                                 Traceback (most recent call last)",
      "Cell \u001b[1;32mIn[4], line 36\u001b[0m\n\u001b[0;32m     34\u001b[0m \u001b[38;5;28mprint\u001b[39m(\u001b[38;5;124mf\u001b[39m\u001b[38;5;124m\"\u001b[39m\u001b[38;5;124mBasket: \u001b[39m\u001b[38;5;132;01m{\u001b[39;00mbasket_name\u001b[38;5;132;01m}\u001b[39;00m\u001b[38;5;124m\"\u001b[39m)\n\u001b[0;32m     35\u001b[0m \u001b[38;5;28mprint\u001b[39m(\u001b[38;5;124m'\u001b[39m\u001b[38;5;124m=\u001b[39m\u001b[38;5;124m'\u001b[39m\u001b[38;5;241m*\u001b[39m\u001b[38;5;241m60\u001b[39m)\n\u001b[1;32m---> 36\u001b[0m \u001b[43mrun_johansen\u001b[49m\u001b[43m(\u001b[49m\u001b[43mdf\u001b[49m\u001b[43m)\u001b[49m\n",
      "Cell \u001b[1;32mIn[4], line 18\u001b[0m, in \u001b[0;36mrun_johansen\u001b[1;34m(df)\u001b[0m\n\u001b[0;32m     16\u001b[0m \u001b[38;5;28;01mdef\u001b[39;00m\u001b[38;5;250m \u001b[39m\u001b[38;5;21mrun_johansen\u001b[39m(df):\n\u001b[0;32m     17\u001b[0m \u001b[38;5;250m    \u001b[39m\u001b[38;5;124;03m\"\"\"Run Johansen cointegration test on a basket\"\"\"\u001b[39;00m\n\u001b[1;32m---> 18\u001b[0m     result \u001b[38;5;241m=\u001b[39m \u001b[43mcoint_johansen\u001b[49m\u001b[43m(\u001b[49m\u001b[43mdf\u001b[49m\u001b[43m,\u001b[49m\u001b[43m \u001b[49m\u001b[43mdet_order\u001b[49m\u001b[38;5;241;43m=\u001b[39;49m\u001b[38;5;241;43m0\u001b[39;49m\u001b[43m,\u001b[49m\u001b[43m \u001b[49m\u001b[43mk_ar_diff\u001b[49m\u001b[38;5;241;43m=\u001b[39;49m\u001b[38;5;241;43m1\u001b[39;49m\u001b[43m)\u001b[49m\n\u001b[0;32m     20\u001b[0m     \u001b[38;5;28mprint\u001b[39m(\u001b[38;5;124m\"\u001b[39m\u001b[38;5;124mTrace Statistics:\u001b[39m\u001b[38;5;124m\"\u001b[39m, result\u001b[38;5;241m.\u001b[39mlr1)\n\u001b[0;32m     21\u001b[0m     \u001b[38;5;28mprint\u001b[39m(\u001b[38;5;124m\"\u001b[39m\u001b[38;5;124mCritical Values (95\u001b[39m\u001b[38;5;124m%\u001b[39m\u001b[38;5;124m):\u001b[39m\u001b[38;5;124m\"\u001b[39m, result\u001b[38;5;241m.\u001b[39mcvt[:, \u001b[38;5;241m1\u001b[39m])\n",
      "File \u001b[1;32mc:\\Users\\mgray\\AppData\\Local\\Programs\\Python\\Python39\\lib\\site-packages\\statsmodels\\tsa\\vector_ar\\vecm.py:684\u001b[0m, in \u001b[0;36mcoint_johansen\u001b[1;34m(endog, det_order, k_ar_diff)\u001b[0m\n\u001b[0;32m    681\u001b[0m \u001b[38;5;28;01melse\u001b[39;00m:\n\u001b[0;32m    682\u001b[0m     f \u001b[38;5;241m=\u001b[39m det_order\n\u001b[1;32m--> 684\u001b[0m endog \u001b[38;5;241m=\u001b[39m \u001b[43mdetrend\u001b[49m\u001b[43m(\u001b[49m\u001b[43mendog\u001b[49m\u001b[43m,\u001b[49m\u001b[43m \u001b[49m\u001b[43mdet_order\u001b[49m\u001b[43m)\u001b[49m\n\u001b[0;32m    685\u001b[0m dx \u001b[38;5;241m=\u001b[39m np\u001b[38;5;241m.\u001b[39mdiff(endog, \u001b[38;5;241m1\u001b[39m, axis\u001b[38;5;241m=\u001b[39m\u001b[38;5;241m0\u001b[39m)\n\u001b[0;32m    686\u001b[0m z \u001b[38;5;241m=\u001b[39m lagmat(dx, k_ar_diff)\n",
      "File \u001b[1;32mc:\\Users\\mgray\\AppData\\Local\\Programs\\Python\\Python39\\lib\\site-packages\\statsmodels\\tsa\\vector_ar\\vecm.py:664\u001b[0m, in \u001b[0;36mcoint_johansen.<locals>.detrend\u001b[1;34m(y, order)\u001b[0m\n\u001b[0;32m    661\u001b[0m \u001b[38;5;28;01mif\u001b[39;00m order \u001b[38;5;241m==\u001b[39m \u001b[38;5;241m-\u001b[39m\u001b[38;5;241m1\u001b[39m:\n\u001b[0;32m    662\u001b[0m     \u001b[38;5;28;01mreturn\u001b[39;00m y\n\u001b[0;32m    663\u001b[0m \u001b[38;5;28;01mreturn\u001b[39;00m (\n\u001b[1;32m--> 664\u001b[0m     \u001b[43mOLS\u001b[49m\u001b[43m(\u001b[49m\u001b[43my\u001b[49m\u001b[43m,\u001b[49m\u001b[43m \u001b[49m\u001b[43mnp\u001b[49m\u001b[38;5;241;43m.\u001b[39;49m\u001b[43mvander\u001b[49m\u001b[43m(\u001b[49m\u001b[43mnp\u001b[49m\u001b[38;5;241;43m.\u001b[39;49m\u001b[43mlinspace\u001b[49m\u001b[43m(\u001b[49m\u001b[38;5;241;43m-\u001b[39;49m\u001b[38;5;241;43m1\u001b[39;49m\u001b[43m,\u001b[49m\u001b[43m \u001b[49m\u001b[38;5;241;43m1\u001b[39;49m\u001b[43m,\u001b[49m\u001b[43m \u001b[49m\u001b[38;5;28;43mlen\u001b[39;49m\u001b[43m(\u001b[49m\u001b[43my\u001b[49m\u001b[43m)\u001b[49m\u001b[43m)\u001b[49m\u001b[43m,\u001b[49m\u001b[43m \u001b[49m\u001b[43morder\u001b[49m\u001b[43m \u001b[49m\u001b[38;5;241;43m+\u001b[39;49m\u001b[43m \u001b[49m\u001b[38;5;241;43m1\u001b[39;49m\u001b[43m)\u001b[49m\u001b[43m)\u001b[49m\n\u001b[0;32m    665\u001b[0m \u001b[43m    \u001b[49m\u001b[38;5;241;43m.\u001b[39;49m\u001b[43mfit\u001b[49m\u001b[43m(\u001b[49m\u001b[43m)\u001b[49m\n\u001b[0;32m    666\u001b[0m     \u001b[38;5;241m.\u001b[39mresid\n\u001b[0;32m    667\u001b[0m )\n",
      "File \u001b[1;32mc:\\Users\\mgray\\AppData\\Local\\Programs\\Python\\Python39\\lib\\site-packages\\statsmodels\\regression\\linear_model.py:341\u001b[0m, in \u001b[0;36mRegressionModel.fit\u001b[1;34m(self, method, cov_type, cov_kwds, use_t, **kwargs)\u001b[0m\n\u001b[0;32m    338\u001b[0m         \u001b[38;5;28mself\u001b[39m\u001b[38;5;241m.\u001b[39mwexog_singular_values \u001b[38;5;241m=\u001b[39m singular_values\n\u001b[0;32m    339\u001b[0m         \u001b[38;5;28mself\u001b[39m\u001b[38;5;241m.\u001b[39mrank \u001b[38;5;241m=\u001b[39m np\u001b[38;5;241m.\u001b[39mlinalg\u001b[38;5;241m.\u001b[39mmatrix_rank(np\u001b[38;5;241m.\u001b[39mdiag(singular_values))\n\u001b[1;32m--> 341\u001b[0m     beta \u001b[38;5;241m=\u001b[39m \u001b[43mnp\u001b[49m\u001b[38;5;241;43m.\u001b[39;49m\u001b[43mdot\u001b[49m\u001b[43m(\u001b[49m\u001b[38;5;28;43mself\u001b[39;49m\u001b[38;5;241;43m.\u001b[39;49m\u001b[43mpinv_wexog\u001b[49m\u001b[43m,\u001b[49m\u001b[43m \u001b[49m\u001b[38;5;28;43mself\u001b[39;49m\u001b[38;5;241;43m.\u001b[39;49m\u001b[43mwendog\u001b[49m\u001b[43m)\u001b[49m\n\u001b[0;32m    343\u001b[0m \u001b[38;5;28;01melif\u001b[39;00m method \u001b[38;5;241m==\u001b[39m \u001b[38;5;124m\"\u001b[39m\u001b[38;5;124mqr\u001b[39m\u001b[38;5;124m\"\u001b[39m:\n\u001b[0;32m    344\u001b[0m     \u001b[38;5;28;01mif\u001b[39;00m \u001b[38;5;129;01mnot\u001b[39;00m (\u001b[38;5;28mhasattr\u001b[39m(\u001b[38;5;28mself\u001b[39m, \u001b[38;5;124m'\u001b[39m\u001b[38;5;124mexog_Q\u001b[39m\u001b[38;5;124m'\u001b[39m) \u001b[38;5;129;01mand\u001b[39;00m\n\u001b[0;32m    345\u001b[0m             \u001b[38;5;28mhasattr\u001b[39m(\u001b[38;5;28mself\u001b[39m, \u001b[38;5;124m'\u001b[39m\u001b[38;5;124mexog_R\u001b[39m\u001b[38;5;124m'\u001b[39m) \u001b[38;5;129;01mand\u001b[39;00m\n\u001b[0;32m    346\u001b[0m             \u001b[38;5;28mhasattr\u001b[39m(\u001b[38;5;28mself\u001b[39m, \u001b[38;5;124m'\u001b[39m\u001b[38;5;124mnormalized_cov_params\u001b[39m\u001b[38;5;124m'\u001b[39m) \u001b[38;5;129;01mand\u001b[39;00m\n\u001b[0;32m    347\u001b[0m             \u001b[38;5;28mhasattr\u001b[39m(\u001b[38;5;28mself\u001b[39m, \u001b[38;5;124m'\u001b[39m\u001b[38;5;124mrank\u001b[39m\u001b[38;5;124m'\u001b[39m)):\n",
      "\u001b[1;31mTypeError\u001b[0m: can't multiply sequence by non-int of type 'float'"
     ]
    }
   ],
   "source": [
    "\n",
    "def load_all_csv(folder_path=\".\"):\n",
    "           '''load all CSVs from folder into a dictionary of DataFrames'''\n",
    "           dfs = {}\n",
    "           for file in os.listdir(folder_path):\n",
    "               if file.endswith('.csv'):\n",
    "                   basket_name = file.replace('.csv', '')\n",
    "                   dfs[basket_name] = pd.read_csv(os.path.join(folder_path, file), index_col=0, parse_dates=True)\n",
    "           return dfs\n",
    "\n",
    "all_data = load_all_csv()\n",
    "\n",
    "\n",
    "def run_johansen(df):\n",
    "    \"\"\"Run Johansen cointegration test on a basket\"\"\"\n",
    "    result = coint_johansen(df, det_order=0, k_ar_diff=1)\n",
    "    \n",
    "    print(\"Trace Statistics:\", result.lr1)\n",
    "    print(\"Critical Values (95%):\", result.cvt[:, 1])\n",
    "    print(\"\\nCointegrating relationships:\", sum(result.lr1 > result.cvt[:, 1]))\n",
    "    \n",
    "    return result\n",
    "\n",
    "# Run test on META basket\n",
    "basket_result = run_johansen(all_data['META_PINS_SNAP_SPOT_ROKU'])\n",
    "\n",
    "\n"
   ]
  }
 ],
 "metadata": {
  "kernelspec": {
   "display_name": "Python 3",
   "language": "python",
   "name": "python3"
  },
  "language_info": {
   "codemirror_mode": {
    "name": "ipython",
    "version": 3
   },
   "file_extension": ".py",
   "mimetype": "text/x-python",
   "name": "python",
   "nbconvert_exporter": "python",
   "pygments_lexer": "ipython3",
   "version": "3.9.5"
  }
 },
 "nbformat": 4,
 "nbformat_minor": 5
}
